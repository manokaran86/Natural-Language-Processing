{
  "nbformat": 4,
  "nbformat_minor": 0,
  "metadata": {
    "colab": {
      "provenance": [],
      "authorship_tag": "ABX9TyOgvGKC2/WeDCNdXgN4wCDT",
      "include_colab_link": true
    },
    "kernelspec": {
      "name": "python3",
      "display_name": "Python 3"
    },
    "language_info": {
      "name": "python"
    }
  },
  "cells": [
    {
      "cell_type": "markdown",
      "metadata": {
        "id": "view-in-github",
        "colab_type": "text"
      },
      "source": [
        "<a href=\"https://colab.research.google.com/github/manokaran86/Natural-Language-Processing/blob/main/POS_Tagging_and_NER_Dependency_Parsing.ipynb\" target=\"_parent\"><img src=\"https://colab.research.google.com/assets/colab-badge.svg\" alt=\"Open In Colab\"/></a>"
      ]
    },
    {
      "cell_type": "code",
      "execution_count": 1,
      "metadata": {
        "id": "Fxd06hLvwuPX"
      },
      "outputs": [],
      "source": [
        "t_text = \"To further elaborate on the geographical trends, North America has procured more than 50% of the global share in 2017 and has been leading the regional landscape of AI in the retail market.** The U.S. has a significant credit in the regional trends with over 65% of investments (including M&As, private equity, and venture capital) in artificial intelligence technology. Additionally, the region is a huge hub for startups in tandem with the presence of tech titans, such as Google, IBM, and Microsoft\""
      ]
    },
    {
      "cell_type": "code",
      "source": [
        "# Loading the Library and model\n",
        "import spacy\n",
        "nlp = spacy.load('en_core_web_sm')    ### This is a samll model(smaller version)"
      ],
      "metadata": {
        "id": "015gVoE1w87T"
      },
      "execution_count": 4,
      "outputs": []
    },
    {
      "cell_type": "code",
      "source": [
        "# Processing the text\n",
        "doc = nlp(t_text)"
      ],
      "metadata": {
        "id": "MJyUdCt9xId8"
      },
      "execution_count": 6,
      "outputs": []
    },
    {
      "cell_type": "code",
      "source": [
        "for token in doc:\n",
        "  print(f\"{token.text:{15}} {token.tag_:{10}} {token.pos_:{10}} {spacy.explain(token.tag_)}\")"
      ],
      "metadata": {
        "colab": {
          "base_uri": "https://localhost:8080/"
        },
        "id": "ILg1pqVNx4I-",
        "outputId": "f656ed88-185f-4e13-a725-272bee4cfc6e"
      },
      "execution_count": 10,
      "outputs": [
        {
          "output_type": "stream",
          "name": "stdout",
          "text": [
            "To              TO         PART       infinitival \"to\"\n",
            "further         RB         ADV        adverb\n",
            "elaborate       VB         VERB       verb, base form\n",
            "on              IN         ADP        conjunction, subordinating or preposition\n",
            "the             DT         DET        determiner\n",
            "geographical    JJ         ADJ        adjective (English), other noun-modifier (Chinese)\n",
            "trends          NNS        NOUN       noun, plural\n",
            ",               ,          PUNCT      punctuation mark, comma\n",
            "North           NNP        PROPN      noun, proper singular\n",
            "America         NNP        PROPN      noun, proper singular\n",
            "has             VBZ        AUX        verb, 3rd person singular present\n",
            "procured        VBN        VERB       verb, past participle\n",
            "more            JJR        ADJ        adjective, comparative\n",
            "than            IN         ADP        conjunction, subordinating or preposition\n",
            "50              CD         NUM        cardinal number\n",
            "%               NN         NOUN       noun, singular or mass\n",
            "of              IN         ADP        conjunction, subordinating or preposition\n",
            "the             DT         DET        determiner\n",
            "global          JJ         ADJ        adjective (English), other noun-modifier (Chinese)\n",
            "share           NN         NOUN       noun, singular or mass\n",
            "in              IN         ADP        conjunction, subordinating or preposition\n",
            "2017            CD         NUM        cardinal number\n",
            "and             CC         CCONJ      conjunction, coordinating\n",
            "has             VBZ        AUX        verb, 3rd person singular present\n",
            "been            VBN        AUX        verb, past participle\n",
            "leading         VBG        VERB       verb, gerund or present participle\n",
            "the             DT         DET        determiner\n",
            "regional        JJ         ADJ        adjective (English), other noun-modifier (Chinese)\n",
            "landscape       NN         NOUN       noun, singular or mass\n",
            "of              IN         ADP        conjunction, subordinating or preposition\n",
            "AI              NNP        PROPN      noun, proper singular\n",
            "in              IN         ADP        conjunction, subordinating or preposition\n",
            "the             DT         DET        determiner\n",
            "retail          JJ         ADJ        adjective (English), other noun-modifier (Chinese)\n",
            "market          NN         NOUN       noun, singular or mass\n",
            ".               .          PUNCT      punctuation mark, sentence closer\n",
            "*               NFP        PUNCT      superfluous punctuation\n",
            "*               NFP        PUNCT      superfluous punctuation\n",
            "The             DT         DET        determiner\n",
            "U.S.            NNP        PROPN      noun, proper singular\n",
            "has             VBZ        VERB       verb, 3rd person singular present\n",
            "a               DT         DET        determiner\n",
            "significant     JJ         ADJ        adjective (English), other noun-modifier (Chinese)\n",
            "credit          NN         NOUN       noun, singular or mass\n",
            "in              IN         ADP        conjunction, subordinating or preposition\n",
            "the             DT         DET        determiner\n",
            "regional        JJ         ADJ        adjective (English), other noun-modifier (Chinese)\n",
            "trends          NNS        NOUN       noun, plural\n",
            "with            IN         ADP        conjunction, subordinating or preposition\n",
            "over            IN         ADP        conjunction, subordinating or preposition\n",
            "65              CD         NUM        cardinal number\n",
            "%               NN         NOUN       noun, singular or mass\n",
            "of              IN         ADP        conjunction, subordinating or preposition\n",
            "investments     NNS        NOUN       noun, plural\n",
            "(               -LRB-      PUNCT      left round bracket\n",
            "including       VBG        VERB       verb, gerund or present participle\n",
            "M&As            NNS        NOUN       noun, plural\n",
            ",               ,          PUNCT      punctuation mark, comma\n",
            "private         JJ         ADJ        adjective (English), other noun-modifier (Chinese)\n",
            "equity          NN         NOUN       noun, singular or mass\n",
            ",               ,          PUNCT      punctuation mark, comma\n",
            "and             CC         CCONJ      conjunction, coordinating\n",
            "venture         NN         NOUN       noun, singular or mass\n",
            "capital         NN         NOUN       noun, singular or mass\n",
            ")               -RRB-      PUNCT      right round bracket\n",
            "in              IN         ADP        conjunction, subordinating or preposition\n",
            "artificial      JJ         ADJ        adjective (English), other noun-modifier (Chinese)\n",
            "intelligence    NN         NOUN       noun, singular or mass\n",
            "technology      NN         NOUN       noun, singular or mass\n",
            ".               .          PUNCT      punctuation mark, sentence closer\n",
            "Additionally    RB         ADV        adverb\n",
            ",               ,          PUNCT      punctuation mark, comma\n",
            "the             DT         DET        determiner\n",
            "region          NN         NOUN       noun, singular or mass\n",
            "is              VBZ        AUX        verb, 3rd person singular present\n",
            "a               DT         DET        determiner\n",
            "huge            JJ         ADJ        adjective (English), other noun-modifier (Chinese)\n",
            "hub             NN         NOUN       noun, singular or mass\n",
            "for             IN         ADP        conjunction, subordinating or preposition\n",
            "startups        NNS        NOUN       noun, plural\n",
            "in              IN         ADP        conjunction, subordinating or preposition\n",
            "tandem          NN         NOUN       noun, singular or mass\n",
            "with            IN         ADP        conjunction, subordinating or preposition\n",
            "the             DT         DET        determiner\n",
            "presence        NN         NOUN       noun, singular or mass\n",
            "of              IN         ADP        conjunction, subordinating or preposition\n",
            "tech            NN         NOUN       noun, singular or mass\n",
            "titans          NNS        NOUN       noun, plural\n",
            ",               ,          PUNCT      punctuation mark, comma\n",
            "such            JJ         ADJ        adjective (English), other noun-modifier (Chinese)\n",
            "as              IN         ADP        conjunction, subordinating or preposition\n",
            "Google          NNP        PROPN      noun, proper singular\n",
            ",               ,          PUNCT      punctuation mark, comma\n",
            "IBM             NNP        PROPN      noun, proper singular\n",
            ",               ,          PUNCT      punctuation mark, comma\n",
            "and             CC         CCONJ      conjunction, coordinating\n",
            "Microsoft       NNP        PROPN      noun, proper singular\n"
          ]
        }
      ]
    },
    {
      "cell_type": "code",
      "source": [
        "## Displace the information -- Graphecial represntation of data\n",
        "\n",
        "from spacy import displacy"
      ],
      "metadata": {
        "id": "FO49NtMeywPG"
      },
      "execution_count": 11,
      "outputs": []
    },
    {
      "cell_type": "code",
      "source": [
        "options = {'compact': 'True'}"
      ],
      "metadata": {
        "id": "tW68vu4yzf6Z"
      },
      "execution_count": 12,
      "outputs": []
    },
    {
      "cell_type": "code",
      "source": [
        "if doc.ents:\n",
        "  for ent in doc.ents:\n",
        "      print(f\"{ent.text:{15}} {ent.label_:{10}} {spacy.explain(ent.label_)}\")"
      ],
      "metadata": {
        "colab": {
          "base_uri": "https://localhost:8080/"
        },
        "id": "vMaL6uXVzk0g",
        "outputId": "8bd21f7f-bf00-4997-bd7a-737f8d8cb0ef"
      },
      "execution_count": 18,
      "outputs": [
        {
          "output_type": "stream",
          "name": "stdout",
          "text": [
            "North America   LOC        Non-GPE locations, mountain ranges, bodies of water\n",
            "more than 50%   PERCENT    Percentage, including \"%\"\n",
            "2017            DATE       Absolute or relative dates or periods\n",
            "AI              ORG        Companies, agencies, institutions, etc.\n",
            "U.S.            GPE        Countries, cities, states\n",
            "over 65%        PERCENT    Percentage, including \"%\"\n",
            "Google          ORG        Companies, agencies, institutions, etc.\n",
            "IBM             ORG        Companies, agencies, institutions, etc.\n",
            "Microsoft       ORG        Companies, agencies, institutions, etc.\n"
          ]
        }
      ]
    },
    {
      "cell_type": "code",
      "source": [
        "# Graphical representation of data\n",
        "displacy.render(doc, style = 'ent', jupyter=True, options=options)"
      ],
      "metadata": {
        "colab": {
          "base_uri": "https://localhost:8080/",
          "height": 122
        },
        "id": "XfJ1blRn0lBT",
        "outputId": "92790d9e-d863-4cf0-90d8-6008457ac240"
      },
      "execution_count": 19,
      "outputs": [
        {
          "output_type": "display_data",
          "data": {
            "text/plain": [
              "<IPython.core.display.HTML object>"
            ],
            "text/html": [
              "<span class=\"tex2jax_ignore\"><div class=\"entities\" style=\"line-height: 2.5; direction: ltr\">To further elaborate on the geographical trends, \n",
              "<mark class=\"entity\" style=\"background: #ff9561; padding: 0.45em 0.6em; margin: 0 0.25em; line-height: 1; border-radius: 0.35em;\">\n",
              "    North America\n",
              "    <span style=\"font-size: 0.8em; font-weight: bold; line-height: 1; border-radius: 0.35em; vertical-align: middle; margin-left: 0.5rem\">LOC</span>\n",
              "</mark>\n",
              " has procured \n",
              "<mark class=\"entity\" style=\"background: #e4e7d2; padding: 0.45em 0.6em; margin: 0 0.25em; line-height: 1; border-radius: 0.35em;\">\n",
              "    more than 50%\n",
              "    <span style=\"font-size: 0.8em; font-weight: bold; line-height: 1; border-radius: 0.35em; vertical-align: middle; margin-left: 0.5rem\">PERCENT</span>\n",
              "</mark>\n",
              " of the global share in \n",
              "<mark class=\"entity\" style=\"background: #bfe1d9; padding: 0.45em 0.6em; margin: 0 0.25em; line-height: 1; border-radius: 0.35em;\">\n",
              "    2017\n",
              "    <span style=\"font-size: 0.8em; font-weight: bold; line-height: 1; border-radius: 0.35em; vertical-align: middle; margin-left: 0.5rem\">DATE</span>\n",
              "</mark>\n",
              " and has been leading the regional landscape of \n",
              "<mark class=\"entity\" style=\"background: #7aecec; padding: 0.45em 0.6em; margin: 0 0.25em; line-height: 1; border-radius: 0.35em;\">\n",
              "    AI\n",
              "    <span style=\"font-size: 0.8em; font-weight: bold; line-height: 1; border-radius: 0.35em; vertical-align: middle; margin-left: 0.5rem\">ORG</span>\n",
              "</mark>\n",
              " in the retail market.** The \n",
              "<mark class=\"entity\" style=\"background: #feca74; padding: 0.45em 0.6em; margin: 0 0.25em; line-height: 1; border-radius: 0.35em;\">\n",
              "    U.S.\n",
              "    <span style=\"font-size: 0.8em; font-weight: bold; line-height: 1; border-radius: 0.35em; vertical-align: middle; margin-left: 0.5rem\">GPE</span>\n",
              "</mark>\n",
              " has a significant credit in the regional trends with \n",
              "<mark class=\"entity\" style=\"background: #e4e7d2; padding: 0.45em 0.6em; margin: 0 0.25em; line-height: 1; border-radius: 0.35em;\">\n",
              "    over 65%\n",
              "    <span style=\"font-size: 0.8em; font-weight: bold; line-height: 1; border-radius: 0.35em; vertical-align: middle; margin-left: 0.5rem\">PERCENT</span>\n",
              "</mark>\n",
              " of investments (including M&amp;As, private equity, and venture capital) in artificial intelligence technology. Additionally, the region is a huge hub for startups in tandem with the presence of tech titans, such as \n",
              "<mark class=\"entity\" style=\"background: #7aecec; padding: 0.45em 0.6em; margin: 0 0.25em; line-height: 1; border-radius: 0.35em;\">\n",
              "    Google\n",
              "    <span style=\"font-size: 0.8em; font-weight: bold; line-height: 1; border-radius: 0.35em; vertical-align: middle; margin-left: 0.5rem\">ORG</span>\n",
              "</mark>\n",
              ", \n",
              "<mark class=\"entity\" style=\"background: #7aecec; padding: 0.45em 0.6em; margin: 0 0.25em; line-height: 1; border-radius: 0.35em;\">\n",
              "    IBM\n",
              "    <span style=\"font-size: 0.8em; font-weight: bold; line-height: 1; border-radius: 0.35em; vertical-align: middle; margin-left: 0.5rem\">ORG</span>\n",
              "</mark>\n",
              ", and \n",
              "<mark class=\"entity\" style=\"background: #7aecec; padding: 0.45em 0.6em; margin: 0 0.25em; line-height: 1; border-radius: 0.35em;\">\n",
              "    Microsoft\n",
              "    <span style=\"font-size: 0.8em; font-weight: bold; line-height: 1; border-radius: 0.35em; vertical-align: middle; margin-left: 0.5rem\">ORG</span>\n",
              "</mark>\n",
              "</div></span>"
            ]
          },
          "metadata": {}
        }
      ]
    },
    {
      "cell_type": "code",
      "source": [],
      "metadata": {
        "id": "graQ_hKt1nUy"
      },
      "execution_count": null,
      "outputs": []
    },
    {
      "cell_type": "code",
      "source": [],
      "metadata": {
        "id": "U5KQH0pP2M3r"
      },
      "execution_count": null,
      "outputs": []
    }
  ]
}