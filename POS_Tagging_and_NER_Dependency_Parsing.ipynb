{
  "nbformat": 4,
  "nbformat_minor": 0,
  "metadata": {
    "colab": {
      "provenance": [],
      "authorship_tag": "ABX9TyP4uZ6Mw5Cy09YOvWdLkCpW",
      "include_colab_link": true
    },
    "kernelspec": {
      "name": "python3",
      "display_name": "Python 3"
    },
    "language_info": {
      "name": "python"
    }
  },
  "cells": [
    {
      "cell_type": "markdown",
      "metadata": {
        "id": "view-in-github",
        "colab_type": "text"
      },
      "source": [
        "<a href=\"https://colab.research.google.com/github/manokaran86/Natural-Language-Processing/blob/main/POS_Tagging_and_NER_Dependency_Parsing.ipynb\" target=\"_parent\"><img src=\"https://colab.research.google.com/assets/colab-badge.svg\" alt=\"Open In Colab\"/></a>"
      ]
    },
    {
      "cell_type": "code",
      "execution_count": 1,
      "metadata": {
        "id": "Fxd06hLvwuPX"
      },
      "outputs": [],
      "source": [
        "t_text = \"To further elaborate on the geographical trends, North America has procured more than 50% of the global share in 2017 and has been leading the regional landscape of AI in the retail market.** The U.S. has a significant credit in the regional trends with over 65% of investments (including M&As, private equity, and venture capital) in artificial intelligence technology. Additionally, the region is a huge hub for startups in tandem with the presence of tech titans, such as Google, IBM, and Microsoft\""
      ]
    },
    {
      "cell_type": "code",
      "source": [
        "# Loading the Library and model\n",
        "import spacy\n",
        "nlp = spacy.load('en_core_web_sm')    ### This is a samll model(smaller version)"
      ],
      "metadata": {
        "id": "015gVoE1w87T"
      },
      "execution_count": 4,
      "outputs": []
    },
    {
      "cell_type": "code",
      "source": [
        "# Processing the text\n",
        "doc = nlp(t_text)"
      ],
      "metadata": {
        "id": "MJyUdCt9xId8"
      },
      "execution_count": 6,
      "outputs": []
    },
    {
      "cell_type": "code",
      "source": [
        "for token in doc:\n",
        "  print(f\"{token.text:{15}} {token.tag_:{10}} {token.pos_:{10}} {spacy.explain(token.tag_)}\")"
      ],
      "metadata": {
        "colab": {
          "base_uri": "https://localhost:8080/"
        },
        "id": "ILg1pqVNx4I-",
        "outputId": "f656ed88-185f-4e13-a725-272bee4cfc6e"
      },
      "execution_count": 10,
      "outputs": [
        {
          "output_type": "stream",
          "name": "stdout",
          "text": [
            "To              TO         PART       infinitival \"to\"\n",
            "further         RB         ADV        adverb\n",
            "elaborate       VB         VERB       verb, base form\n",
            "on              IN         ADP        conjunction, subordinating or preposition\n",
            "the             DT         DET        determiner\n",
            "geographical    JJ         ADJ        adjective (English), other noun-modifier (Chinese)\n",
            "trends          NNS        NOUN       noun, plural\n",
            ",               ,          PUNCT      punctuation mark, comma\n",
            "North           NNP        PROPN      noun, proper singular\n",
            "America         NNP        PROPN      noun, proper singular\n",
            "has             VBZ        AUX        verb, 3rd person singular present\n",
            "procured        VBN        VERB       verb, past participle\n",
            "more            JJR        ADJ        adjective, comparative\n",
            "than            IN         ADP        conjunction, subordinating or preposition\n",
            "50              CD         NUM        cardinal number\n",
            "%               NN         NOUN       noun, singular or mass\n",
            "of              IN         ADP        conjunction, subordinating or preposition\n",
            "the             DT         DET        determiner\n",
            "global          JJ         ADJ        adjective (English), other noun-modifier (Chinese)\n",
            "share           NN         NOUN       noun, singular or mass\n",
            "in              IN         ADP        conjunction, subordinating or preposition\n",
            "2017            CD         NUM        cardinal number\n",
            "and             CC         CCONJ      conjunction, coordinating\n",
            "has             VBZ        AUX        verb, 3rd person singular present\n",
            "been            VBN        AUX        verb, past participle\n",
            "leading         VBG        VERB       verb, gerund or present participle\n",
            "the             DT         DET        determiner\n",
            "regional        JJ         ADJ        adjective (English), other noun-modifier (Chinese)\n",
            "landscape       NN         NOUN       noun, singular or mass\n",
            "of              IN         ADP        conjunction, subordinating or preposition\n",
            "AI              NNP        PROPN      noun, proper singular\n",
            "in              IN         ADP        conjunction, subordinating or preposition\n",
            "the             DT         DET        determiner\n",
            "retail          JJ         ADJ        adjective (English), other noun-modifier (Chinese)\n",
            "market          NN         NOUN       noun, singular or mass\n",
            ".               .          PUNCT      punctuation mark, sentence closer\n",
            "*               NFP        PUNCT      superfluous punctuation\n",
            "*               NFP        PUNCT      superfluous punctuation\n",
            "The             DT         DET        determiner\n",
            "U.S.            NNP        PROPN      noun, proper singular\n",
            "has             VBZ        VERB       verb, 3rd person singular present\n",
            "a               DT         DET        determiner\n",
            "significant     JJ         ADJ        adjective (English), other noun-modifier (Chinese)\n",
            "credit          NN         NOUN       noun, singular or mass\n",
            "in              IN         ADP        conjunction, subordinating or preposition\n",
            "the             DT         DET        determiner\n",
            "regional        JJ         ADJ        adjective (English), other noun-modifier (Chinese)\n",
            "trends          NNS        NOUN       noun, plural\n",
            "with            IN         ADP        conjunction, subordinating or preposition\n",
            "over            IN         ADP        conjunction, subordinating or preposition\n",
            "65              CD         NUM        cardinal number\n",
            "%               NN         NOUN       noun, singular or mass\n",
            "of              IN         ADP        conjunction, subordinating or preposition\n",
            "investments     NNS        NOUN       noun, plural\n",
            "(               -LRB-      PUNCT      left round bracket\n",
            "including       VBG        VERB       verb, gerund or present participle\n",
            "M&As            NNS        NOUN       noun, plural\n",
            ",               ,          PUNCT      punctuation mark, comma\n",
            "private         JJ         ADJ        adjective (English), other noun-modifier (Chinese)\n",
            "equity          NN         NOUN       noun, singular or mass\n",
            ",               ,          PUNCT      punctuation mark, comma\n",
            "and             CC         CCONJ      conjunction, coordinating\n",
            "venture         NN         NOUN       noun, singular or mass\n",
            "capital         NN         NOUN       noun, singular or mass\n",
            ")               -RRB-      PUNCT      right round bracket\n",
            "in              IN         ADP        conjunction, subordinating or preposition\n",
            "artificial      JJ         ADJ        adjective (English), other noun-modifier (Chinese)\n",
            "intelligence    NN         NOUN       noun, singular or mass\n",
            "technology      NN         NOUN       noun, singular or mass\n",
            ".               .          PUNCT      punctuation mark, sentence closer\n",
            "Additionally    RB         ADV        adverb\n",
            ",               ,          PUNCT      punctuation mark, comma\n",
            "the             DT         DET        determiner\n",
            "region          NN         NOUN       noun, singular or mass\n",
            "is              VBZ        AUX        verb, 3rd person singular present\n",
            "a               DT         DET        determiner\n",
            "huge            JJ         ADJ        adjective (English), other noun-modifier (Chinese)\n",
            "hub             NN         NOUN       noun, singular or mass\n",
            "for             IN         ADP        conjunction, subordinating or preposition\n",
            "startups        NNS        NOUN       noun, plural\n",
            "in              IN         ADP        conjunction, subordinating or preposition\n",
            "tandem          NN         NOUN       noun, singular or mass\n",
            "with            IN         ADP        conjunction, subordinating or preposition\n",
            "the             DT         DET        determiner\n",
            "presence        NN         NOUN       noun, singular or mass\n",
            "of              IN         ADP        conjunction, subordinating or preposition\n",
            "tech            NN         NOUN       noun, singular or mass\n",
            "titans          NNS        NOUN       noun, plural\n",
            ",               ,          PUNCT      punctuation mark, comma\n",
            "such            JJ         ADJ        adjective (English), other noun-modifier (Chinese)\n",
            "as              IN         ADP        conjunction, subordinating or preposition\n",
            "Google          NNP        PROPN      noun, proper singular\n",
            ",               ,          PUNCT      punctuation mark, comma\n",
            "IBM             NNP        PROPN      noun, proper singular\n",
            ",               ,          PUNCT      punctuation mark, comma\n",
            "and             CC         CCONJ      conjunction, coordinating\n",
            "Microsoft       NNP        PROPN      noun, proper singular\n"
          ]
        }
      ]
    },
    {
      "cell_type": "code",
      "source": [
        "## Displace the information -- Graphecial represntation of data\n",
        "\n",
        "from spacy import displacy"
      ],
      "metadata": {
        "id": "FO49NtMeywPG"
      },
      "execution_count": 11,
      "outputs": []
    },
    {
      "cell_type": "code",
      "source": [
        "options = {'compact': 'True'}"
      ],
      "metadata": {
        "id": "tW68vu4yzf6Z"
      },
      "execution_count": 12,
      "outputs": []
    },
    {
      "cell_type": "code",
      "source": [
        "if doc.ents:\n",
        "  for ent in doc.ents:\n",
        "      print(f\"{ent.text:{15}} {ent.label_:{10}} {spacy.explain(ent.label_)}\")"
      ],
      "metadata": {
        "colab": {
          "base_uri": "https://localhost:8080/"
        },
        "id": "vMaL6uXVzk0g",
        "outputId": "8bd21f7f-bf00-4997-bd7a-737f8d8cb0ef"
      },
      "execution_count": 18,
      "outputs": [
        {
          "output_type": "stream",
          "name": "stdout",
          "text": [
            "North America   LOC        Non-GPE locations, mountain ranges, bodies of water\n",
            "more than 50%   PERCENT    Percentage, including \"%\"\n",
            "2017            DATE       Absolute or relative dates or periods\n",
            "AI              ORG        Companies, agencies, institutions, etc.\n",
            "U.S.            GPE        Countries, cities, states\n",
            "over 65%        PERCENT    Percentage, including \"%\"\n",
            "Google          ORG        Companies, agencies, institutions, etc.\n",
            "IBM             ORG        Companies, agencies, institutions, etc.\n",
            "Microsoft       ORG        Companies, agencies, institutions, etc.\n"
          ]
        }
      ]
    },
    {
      "cell_type": "code",
      "source": [
        "# Graphical representation of data\n",
        "displacy.render(doc, style = 'ent', jupyter=True, options=options)"
      ],
      "metadata": {
        "colab": {
          "base_uri": "https://localhost:8080/",
          "height": 122
        },
        "id": "XfJ1blRn0lBT",
        "outputId": "92790d9e-d863-4cf0-90d8-6008457ac240"
      },
      "execution_count": 19,
      "outputs": [
        {
          "output_type": "display_data",
          "data": {
            "text/plain": [
              "<IPython.core.display.HTML object>"
            ],
            "text/html": [
              "<span class=\"tex2jax_ignore\"><div class=\"entities\" style=\"line-height: 2.5; direction: ltr\">To further elaborate on the geographical trends, \n",
              "<mark class=\"entity\" style=\"background: #ff9561; padding: 0.45em 0.6em; margin: 0 0.25em; line-height: 1; border-radius: 0.35em;\">\n",
              "    North America\n",
              "    <span style=\"font-size: 0.8em; font-weight: bold; line-height: 1; border-radius: 0.35em; vertical-align: middle; margin-left: 0.5rem\">LOC</span>\n",
              "</mark>\n",
              " has procured \n",
              "<mark class=\"entity\" style=\"background: #e4e7d2; padding: 0.45em 0.6em; margin: 0 0.25em; line-height: 1; border-radius: 0.35em;\">\n",
              "    more than 50%\n",
              "    <span style=\"font-size: 0.8em; font-weight: bold; line-height: 1; border-radius: 0.35em; vertical-align: middle; margin-left: 0.5rem\">PERCENT</span>\n",
              "</mark>\n",
              " of the global share in \n",
              "<mark class=\"entity\" style=\"background: #bfe1d9; padding: 0.45em 0.6em; margin: 0 0.25em; line-height: 1; border-radius: 0.35em;\">\n",
              "    2017\n",
              "    <span style=\"font-size: 0.8em; font-weight: bold; line-height: 1; border-radius: 0.35em; vertical-align: middle; margin-left: 0.5rem\">DATE</span>\n",
              "</mark>\n",
              " and has been leading the regional landscape of \n",
              "<mark class=\"entity\" style=\"background: #7aecec; padding: 0.45em 0.6em; margin: 0 0.25em; line-height: 1; border-radius: 0.35em;\">\n",
              "    AI\n",
              "    <span style=\"font-size: 0.8em; font-weight: bold; line-height: 1; border-radius: 0.35em; vertical-align: middle; margin-left: 0.5rem\">ORG</span>\n",
              "</mark>\n",
              " in the retail market.** The \n",
              "<mark class=\"entity\" style=\"background: #feca74; padding: 0.45em 0.6em; margin: 0 0.25em; line-height: 1; border-radius: 0.35em;\">\n",
              "    U.S.\n",
              "    <span style=\"font-size: 0.8em; font-weight: bold; line-height: 1; border-radius: 0.35em; vertical-align: middle; margin-left: 0.5rem\">GPE</span>\n",
              "</mark>\n",
              " has a significant credit in the regional trends with \n",
              "<mark class=\"entity\" style=\"background: #e4e7d2; padding: 0.45em 0.6em; margin: 0 0.25em; line-height: 1; border-radius: 0.35em;\">\n",
              "    over 65%\n",
              "    <span style=\"font-size: 0.8em; font-weight: bold; line-height: 1; border-radius: 0.35em; vertical-align: middle; margin-left: 0.5rem\">PERCENT</span>\n",
              "</mark>\n",
              " of investments (including M&amp;As, private equity, and venture capital) in artificial intelligence technology. Additionally, the region is a huge hub for startups in tandem with the presence of tech titans, such as \n",
              "<mark class=\"entity\" style=\"background: #7aecec; padding: 0.45em 0.6em; margin: 0 0.25em; line-height: 1; border-radius: 0.35em;\">\n",
              "    Google\n",
              "    <span style=\"font-size: 0.8em; font-weight: bold; line-height: 1; border-radius: 0.35em; vertical-align: middle; margin-left: 0.5rem\">ORG</span>\n",
              "</mark>\n",
              ", \n",
              "<mark class=\"entity\" style=\"background: #7aecec; padding: 0.45em 0.6em; margin: 0 0.25em; line-height: 1; border-radius: 0.35em;\">\n",
              "    IBM\n",
              "    <span style=\"font-size: 0.8em; font-weight: bold; line-height: 1; border-radius: 0.35em; vertical-align: middle; margin-left: 0.5rem\">ORG</span>\n",
              "</mark>\n",
              ", and \n",
              "<mark class=\"entity\" style=\"background: #7aecec; padding: 0.45em 0.6em; margin: 0 0.25em; line-height: 1; border-radius: 0.35em;\">\n",
              "    Microsoft\n",
              "    <span style=\"font-size: 0.8em; font-weight: bold; line-height: 1; border-radius: 0.35em; vertical-align: middle; margin-left: 0.5rem\">ORG</span>\n",
              "</mark>\n",
              "</div></span>"
            ]
          },
          "metadata": {}
        }
      ]
    },
    {
      "cell_type": "code",
      "source": [
        "## Dependency Parsing\n",
        "\n",
        "# Graphical representation of data\n",
        "displacy.render(nlp('The Morning flight was delayed to the eveninng'), style = 'dep', jupyter=True, options=options)"
      ],
      "metadata": {
        "colab": {
          "base_uri": "https://localhost:8080/",
          "height": 309
        },
        "id": "graQ_hKt1nUy",
        "outputId": "9af6ab1c-973d-42a8-dbcc-8d6cde880b1b"
      },
      "execution_count": 20,
      "outputs": [
        {
          "output_type": "display_data",
          "data": {
            "text/plain": [
              "<IPython.core.display.HTML object>"
            ],
            "text/html": [
              "<span class=\"tex2jax_ignore\"><svg xmlns=\"http://www.w3.org/2000/svg\" xmlns:xlink=\"http://www.w3.org/1999/xlink\" xml:lang=\"en\" id=\"9d8137532ee5461e9b14148a916720ab-0\" class=\"displacy\" width=\"1250\" height=\"287.0\" direction=\"ltr\" style=\"max-width: none; height: 287.0px; color: #000000; background: #ffffff; font-family: Arial; direction: ltr\">\n",
              "<text class=\"displacy-token\" fill=\"currentColor\" text-anchor=\"middle\" y=\"197.0\">\n",
              "    <tspan class=\"displacy-word\" fill=\"currentColor\" x=\"50\">The</tspan>\n",
              "    <tspan class=\"displacy-tag\" dy=\"2em\" fill=\"currentColor\" x=\"50\">DET</tspan>\n",
              "</text>\n",
              "\n",
              "<text class=\"displacy-token\" fill=\"currentColor\" text-anchor=\"middle\" y=\"197.0\">\n",
              "    <tspan class=\"displacy-word\" fill=\"currentColor\" x=\"200\">Morning</tspan>\n",
              "    <tspan class=\"displacy-tag\" dy=\"2em\" fill=\"currentColor\" x=\"200\">PROPN</tspan>\n",
              "</text>\n",
              "\n",
              "<text class=\"displacy-token\" fill=\"currentColor\" text-anchor=\"middle\" y=\"197.0\">\n",
              "    <tspan class=\"displacy-word\" fill=\"currentColor\" x=\"350\">flight</tspan>\n",
              "    <tspan class=\"displacy-tag\" dy=\"2em\" fill=\"currentColor\" x=\"350\">NOUN</tspan>\n",
              "</text>\n",
              "\n",
              "<text class=\"displacy-token\" fill=\"currentColor\" text-anchor=\"middle\" y=\"197.0\">\n",
              "    <tspan class=\"displacy-word\" fill=\"currentColor\" x=\"500\">was</tspan>\n",
              "    <tspan class=\"displacy-tag\" dy=\"2em\" fill=\"currentColor\" x=\"500\">AUX</tspan>\n",
              "</text>\n",
              "\n",
              "<text class=\"displacy-token\" fill=\"currentColor\" text-anchor=\"middle\" y=\"197.0\">\n",
              "    <tspan class=\"displacy-word\" fill=\"currentColor\" x=\"650\">delayed</tspan>\n",
              "    <tspan class=\"displacy-tag\" dy=\"2em\" fill=\"currentColor\" x=\"650\">VERB</tspan>\n",
              "</text>\n",
              "\n",
              "<text class=\"displacy-token\" fill=\"currentColor\" text-anchor=\"middle\" y=\"197.0\">\n",
              "    <tspan class=\"displacy-word\" fill=\"currentColor\" x=\"800\">to</tspan>\n",
              "    <tspan class=\"displacy-tag\" dy=\"2em\" fill=\"currentColor\" x=\"800\">ADP</tspan>\n",
              "</text>\n",
              "\n",
              "<text class=\"displacy-token\" fill=\"currentColor\" text-anchor=\"middle\" y=\"197.0\">\n",
              "    <tspan class=\"displacy-word\" fill=\"currentColor\" x=\"950\">the</tspan>\n",
              "    <tspan class=\"displacy-tag\" dy=\"2em\" fill=\"currentColor\" x=\"950\">DET</tspan>\n",
              "</text>\n",
              "\n",
              "<text class=\"displacy-token\" fill=\"currentColor\" text-anchor=\"middle\" y=\"197.0\">\n",
              "    <tspan class=\"displacy-word\" fill=\"currentColor\" x=\"1100\">eveninng</tspan>\n",
              "    <tspan class=\"displacy-tag\" dy=\"2em\" fill=\"currentColor\" x=\"1100\">NOUN</tspan>\n",
              "</text>\n",
              "\n",
              "<g class=\"displacy-arrow\">\n",
              "    <path class=\"displacy-arc\" id=\"arrow-9d8137532ee5461e9b14148a916720ab-0-0\" stroke-width=\"2px\" d=\"M62,152.0 62,102.0 350.0,102.0 350.0,152.0\" fill=\"none\" stroke=\"currentColor\"/>\n",
              "    <text dy=\"1.25em\" style=\"font-size: 0.8em; letter-spacing: 1px\">\n",
              "        <textPath xlink:href=\"#arrow-9d8137532ee5461e9b14148a916720ab-0-0\" class=\"displacy-label\" startOffset=\"50%\" side=\"left\" fill=\"currentColor\" text-anchor=\"middle\">det</textPath>\n",
              "    </text>\n",
              "    <path class=\"displacy-arrowhead\" d=\"M62,154.0 L58,146.0 66,146.0\" fill=\"currentColor\"/>\n",
              "</g>\n",
              "\n",
              "<g class=\"displacy-arrow\">\n",
              "    <path class=\"displacy-arc\" id=\"arrow-9d8137532ee5461e9b14148a916720ab-0-1\" stroke-width=\"2px\" d=\"M212,152.0 212,127.0 347.0,127.0 347.0,152.0\" fill=\"none\" stroke=\"currentColor\"/>\n",
              "    <text dy=\"1.25em\" style=\"font-size: 0.8em; letter-spacing: 1px\">\n",
              "        <textPath xlink:href=\"#arrow-9d8137532ee5461e9b14148a916720ab-0-1\" class=\"displacy-label\" startOffset=\"50%\" side=\"left\" fill=\"currentColor\" text-anchor=\"middle\">compound</textPath>\n",
              "    </text>\n",
              "    <path class=\"displacy-arrowhead\" d=\"M212,154.0 L208,146.0 216,146.0\" fill=\"currentColor\"/>\n",
              "</g>\n",
              "\n",
              "<g class=\"displacy-arrow\">\n",
              "    <path class=\"displacy-arc\" id=\"arrow-9d8137532ee5461e9b14148a916720ab-0-2\" stroke-width=\"2px\" d=\"M362,152.0 362,102.0 650.0,102.0 650.0,152.0\" fill=\"none\" stroke=\"currentColor\"/>\n",
              "    <text dy=\"1.25em\" style=\"font-size: 0.8em; letter-spacing: 1px\">\n",
              "        <textPath xlink:href=\"#arrow-9d8137532ee5461e9b14148a916720ab-0-2\" class=\"displacy-label\" startOffset=\"50%\" side=\"left\" fill=\"currentColor\" text-anchor=\"middle\">nsubjpass</textPath>\n",
              "    </text>\n",
              "    <path class=\"displacy-arrowhead\" d=\"M362,154.0 L358,146.0 366,146.0\" fill=\"currentColor\"/>\n",
              "</g>\n",
              "\n",
              "<g class=\"displacy-arrow\">\n",
              "    <path class=\"displacy-arc\" id=\"arrow-9d8137532ee5461e9b14148a916720ab-0-3\" stroke-width=\"2px\" d=\"M512,152.0 512,127.0 647.0,127.0 647.0,152.0\" fill=\"none\" stroke=\"currentColor\"/>\n",
              "    <text dy=\"1.25em\" style=\"font-size: 0.8em; letter-spacing: 1px\">\n",
              "        <textPath xlink:href=\"#arrow-9d8137532ee5461e9b14148a916720ab-0-3\" class=\"displacy-label\" startOffset=\"50%\" side=\"left\" fill=\"currentColor\" text-anchor=\"middle\">auxpass</textPath>\n",
              "    </text>\n",
              "    <path class=\"displacy-arrowhead\" d=\"M512,154.0 L508,146.0 516,146.0\" fill=\"currentColor\"/>\n",
              "</g>\n",
              "\n",
              "<g class=\"displacy-arrow\">\n",
              "    <path class=\"displacy-arc\" id=\"arrow-9d8137532ee5461e9b14148a916720ab-0-4\" stroke-width=\"2px\" d=\"M662,152.0 662,127.0 797.0,127.0 797.0,152.0\" fill=\"none\" stroke=\"currentColor\"/>\n",
              "    <text dy=\"1.25em\" style=\"font-size: 0.8em; letter-spacing: 1px\">\n",
              "        <textPath xlink:href=\"#arrow-9d8137532ee5461e9b14148a916720ab-0-4\" class=\"displacy-label\" startOffset=\"50%\" side=\"left\" fill=\"currentColor\" text-anchor=\"middle\">prep</textPath>\n",
              "    </text>\n",
              "    <path class=\"displacy-arrowhead\" d=\"M797.0,154.0 L801.0,146.0 793.0,146.0\" fill=\"currentColor\"/>\n",
              "</g>\n",
              "\n",
              "<g class=\"displacy-arrow\">\n",
              "    <path class=\"displacy-arc\" id=\"arrow-9d8137532ee5461e9b14148a916720ab-0-5\" stroke-width=\"2px\" d=\"M962,152.0 962,127.0 1097.0,127.0 1097.0,152.0\" fill=\"none\" stroke=\"currentColor\"/>\n",
              "    <text dy=\"1.25em\" style=\"font-size: 0.8em; letter-spacing: 1px\">\n",
              "        <textPath xlink:href=\"#arrow-9d8137532ee5461e9b14148a916720ab-0-5\" class=\"displacy-label\" startOffset=\"50%\" side=\"left\" fill=\"currentColor\" text-anchor=\"middle\">det</textPath>\n",
              "    </text>\n",
              "    <path class=\"displacy-arrowhead\" d=\"M962,154.0 L958,146.0 966,146.0\" fill=\"currentColor\"/>\n",
              "</g>\n",
              "\n",
              "<g class=\"displacy-arrow\">\n",
              "    <path class=\"displacy-arc\" id=\"arrow-9d8137532ee5461e9b14148a916720ab-0-6\" stroke-width=\"2px\" d=\"M812,152.0 812,102.0 1100.0,102.0 1100.0,152.0\" fill=\"none\" stroke=\"currentColor\"/>\n",
              "    <text dy=\"1.25em\" style=\"font-size: 0.8em; letter-spacing: 1px\">\n",
              "        <textPath xlink:href=\"#arrow-9d8137532ee5461e9b14148a916720ab-0-6\" class=\"displacy-label\" startOffset=\"50%\" side=\"left\" fill=\"currentColor\" text-anchor=\"middle\">pobj</textPath>\n",
              "    </text>\n",
              "    <path class=\"displacy-arrowhead\" d=\"M1100.0,154.0 L1104.0,146.0 1096.0,146.0\" fill=\"currentColor\"/>\n",
              "</g>\n",
              "</svg></span>"
            ]
          },
          "metadata": {}
        }
      ]
    },
    {
      "cell_type": "code",
      "source": [],
      "metadata": {
        "id": "U5KQH0pP2M3r"
      },
      "execution_count": null,
      "outputs": []
    }
  ]
}