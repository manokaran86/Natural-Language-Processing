{
  "nbformat": 4,
  "nbformat_minor": 0,
  "metadata": {
    "colab": {
      "provenance": [],
      "authorship_tag": "ABX9TyMzK9+JXVZYBl74Ll20G8wr",
      "include_colab_link": true
    },
    "kernelspec": {
      "name": "python3",
      "display_name": "Python 3"
    },
    "language_info": {
      "name": "python"
    }
  },
  "cells": [
    {
      "cell_type": "markdown",
      "metadata": {
        "id": "view-in-github",
        "colab_type": "text"
      },
      "source": [
        "<a href=\"https://colab.research.google.com/github/manokaran86/Natural-Language-Processing/blob/main/Day5_TextBlob.ipynb\" target=\"_parent\"><img src=\"https://colab.research.google.com/assets/colab-badge.svg\" alt=\"Open In Colab\"/></a>"
      ]
    },
    {
      "cell_type": "code",
      "execution_count": 1,
      "metadata": {
        "id": "DB67Ubj9HD1q"
      },
      "outputs": [],
      "source": [
        "from textblob import TextBlob"
      ]
    },
    {
      "cell_type": "code",
      "source": [
        "import nltk\n",
        "nltk.download('all')"
      ],
      "metadata": {
        "colab": {
          "base_uri": "https://localhost:8080/"
        },
        "id": "n8MogVSLHT8W",
        "outputId": "ca47f0c1-2646-4009-bf3d-8839ee8ecd2e"
      },
      "execution_count": 4,
      "outputs": [
        {
          "output_type": "stream",
          "name": "stderr",
          "text": [
            "[nltk_data] Downloading collection 'all'\n",
            "[nltk_data]    | \n",
            "[nltk_data]    | Downloading package abc to /root/nltk_data...\n",
            "[nltk_data]    |   Unzipping corpora/abc.zip.\n",
            "[nltk_data]    | Downloading package alpino to /root/nltk_data...\n",
            "[nltk_data]    |   Unzipping corpora/alpino.zip.\n",
            "[nltk_data]    | Downloading package averaged_perceptron_tagger to\n",
            "[nltk_data]    |     /root/nltk_data...\n",
            "[nltk_data]    |   Unzipping taggers/averaged_perceptron_tagger.zip.\n",
            "[nltk_data]    | Downloading package averaged_perceptron_tagger_ru to\n",
            "[nltk_data]    |     /root/nltk_data...\n",
            "[nltk_data]    |   Unzipping\n",
            "[nltk_data]    |       taggers/averaged_perceptron_tagger_ru.zip.\n",
            "[nltk_data]    | Downloading package basque_grammars to\n",
            "[nltk_data]    |     /root/nltk_data...\n",
            "[nltk_data]    |   Unzipping grammars/basque_grammars.zip.\n",
            "[nltk_data]    | Downloading package bcp47 to /root/nltk_data...\n",
            "[nltk_data]    | Downloading package biocreative_ppi to\n",
            "[nltk_data]    |     /root/nltk_data...\n",
            "[nltk_data]    |   Unzipping corpora/biocreative_ppi.zip.\n",
            "[nltk_data]    | Downloading package bllip_wsj_no_aux to\n",
            "[nltk_data]    |     /root/nltk_data...\n",
            "[nltk_data]    |   Unzipping models/bllip_wsj_no_aux.zip.\n",
            "[nltk_data]    | Downloading package book_grammars to\n",
            "[nltk_data]    |     /root/nltk_data...\n",
            "[nltk_data]    |   Unzipping grammars/book_grammars.zip.\n",
            "[nltk_data]    | Downloading package brown to /root/nltk_data...\n",
            "[nltk_data]    |   Unzipping corpora/brown.zip.\n",
            "[nltk_data]    | Downloading package brown_tei to /root/nltk_data...\n",
            "[nltk_data]    |   Unzipping corpora/brown_tei.zip.\n",
            "[nltk_data]    | Downloading package cess_cat to /root/nltk_data...\n",
            "[nltk_data]    |   Unzipping corpora/cess_cat.zip.\n",
            "[nltk_data]    | Downloading package cess_esp to /root/nltk_data...\n",
            "[nltk_data]    |   Unzipping corpora/cess_esp.zip.\n",
            "[nltk_data]    | Downloading package chat80 to /root/nltk_data...\n",
            "[nltk_data]    |   Unzipping corpora/chat80.zip.\n",
            "[nltk_data]    | Downloading package city_database to\n",
            "[nltk_data]    |     /root/nltk_data...\n",
            "[nltk_data]    |   Unzipping corpora/city_database.zip.\n",
            "[nltk_data]    | Downloading package cmudict to /root/nltk_data...\n",
            "[nltk_data]    |   Unzipping corpora/cmudict.zip.\n",
            "[nltk_data]    | Downloading package comparative_sentences to\n",
            "[nltk_data]    |     /root/nltk_data...\n",
            "[nltk_data]    |   Unzipping corpora/comparative_sentences.zip.\n",
            "[nltk_data]    | Downloading package comtrans to /root/nltk_data...\n",
            "[nltk_data]    | Downloading package conll2000 to /root/nltk_data...\n",
            "[nltk_data]    |   Unzipping corpora/conll2000.zip.\n",
            "[nltk_data]    | Downloading package conll2002 to /root/nltk_data...\n",
            "[nltk_data]    |   Unzipping corpora/conll2002.zip.\n",
            "[nltk_data]    | Downloading package conll2007 to /root/nltk_data...\n",
            "[nltk_data]    | Downloading package crubadan to /root/nltk_data...\n",
            "[nltk_data]    |   Unzipping corpora/crubadan.zip.\n",
            "[nltk_data]    | Downloading package dependency_treebank to\n",
            "[nltk_data]    |     /root/nltk_data...\n",
            "[nltk_data]    |   Unzipping corpora/dependency_treebank.zip.\n",
            "[nltk_data]    | Downloading package dolch to /root/nltk_data...\n",
            "[nltk_data]    |   Unzipping corpora/dolch.zip.\n",
            "[nltk_data]    | Downloading package europarl_raw to\n",
            "[nltk_data]    |     /root/nltk_data...\n",
            "[nltk_data]    |   Unzipping corpora/europarl_raw.zip.\n",
            "[nltk_data]    | Downloading package extended_omw to\n",
            "[nltk_data]    |     /root/nltk_data...\n",
            "[nltk_data]    | Downloading package floresta to /root/nltk_data...\n",
            "[nltk_data]    |   Unzipping corpora/floresta.zip.\n",
            "[nltk_data]    | Downloading package framenet_v15 to\n",
            "[nltk_data]    |     /root/nltk_data...\n",
            "[nltk_data]    |   Unzipping corpora/framenet_v15.zip.\n",
            "[nltk_data]    | Downloading package framenet_v17 to\n",
            "[nltk_data]    |     /root/nltk_data...\n",
            "[nltk_data]    |   Unzipping corpora/framenet_v17.zip.\n",
            "[nltk_data]    | Downloading package gazetteers to /root/nltk_data...\n",
            "[nltk_data]    |   Unzipping corpora/gazetteers.zip.\n",
            "[nltk_data]    | Downloading package genesis to /root/nltk_data...\n",
            "[nltk_data]    |   Unzipping corpora/genesis.zip.\n",
            "[nltk_data]    | Downloading package gutenberg to /root/nltk_data...\n",
            "[nltk_data]    |   Unzipping corpora/gutenberg.zip.\n",
            "[nltk_data]    | Downloading package ieer to /root/nltk_data...\n",
            "[nltk_data]    |   Unzipping corpora/ieer.zip.\n",
            "[nltk_data]    | Downloading package inaugural to /root/nltk_data...\n",
            "[nltk_data]    |   Unzipping corpora/inaugural.zip.\n",
            "[nltk_data]    | Downloading package indian to /root/nltk_data...\n",
            "[nltk_data]    |   Unzipping corpora/indian.zip.\n",
            "[nltk_data]    | Downloading package jeita to /root/nltk_data...\n",
            "[nltk_data]    | Downloading package kimmo to /root/nltk_data...\n",
            "[nltk_data]    |   Unzipping corpora/kimmo.zip.\n",
            "[nltk_data]    | Downloading package knbc to /root/nltk_data...\n",
            "[nltk_data]    | Downloading package large_grammars to\n",
            "[nltk_data]    |     /root/nltk_data...\n",
            "[nltk_data]    |   Unzipping grammars/large_grammars.zip.\n",
            "[nltk_data]    | Downloading package lin_thesaurus to\n",
            "[nltk_data]    |     /root/nltk_data...\n",
            "[nltk_data]    |   Unzipping corpora/lin_thesaurus.zip.\n",
            "[nltk_data]    | Downloading package mac_morpho to /root/nltk_data...\n",
            "[nltk_data]    |   Unzipping corpora/mac_morpho.zip.\n",
            "[nltk_data]    | Downloading package machado to /root/nltk_data...\n",
            "[nltk_data]    | Downloading package masc_tagged to /root/nltk_data...\n",
            "[nltk_data]    | Downloading package maxent_ne_chunker to\n",
            "[nltk_data]    |     /root/nltk_data...\n",
            "[nltk_data]    |   Unzipping chunkers/maxent_ne_chunker.zip.\n",
            "[nltk_data]    | Downloading package maxent_treebank_pos_tagger to\n",
            "[nltk_data]    |     /root/nltk_data...\n",
            "[nltk_data]    |   Unzipping taggers/maxent_treebank_pos_tagger.zip.\n",
            "[nltk_data]    | Downloading package moses_sample to\n",
            "[nltk_data]    |     /root/nltk_data...\n",
            "[nltk_data]    |   Unzipping models/moses_sample.zip.\n",
            "[nltk_data]    | Downloading package movie_reviews to\n",
            "[nltk_data]    |     /root/nltk_data...\n",
            "[nltk_data]    |   Unzipping corpora/movie_reviews.zip.\n",
            "[nltk_data]    | Downloading package mte_teip5 to /root/nltk_data...\n",
            "[nltk_data]    |   Unzipping corpora/mte_teip5.zip.\n",
            "[nltk_data]    | Downloading package mwa_ppdb to /root/nltk_data...\n",
            "[nltk_data]    |   Unzipping misc/mwa_ppdb.zip.\n",
            "[nltk_data]    | Downloading package names to /root/nltk_data...\n",
            "[nltk_data]    |   Unzipping corpora/names.zip.\n",
            "[nltk_data]    | Downloading package nombank.1.0 to /root/nltk_data...\n",
            "[nltk_data]    | Downloading package nonbreaking_prefixes to\n",
            "[nltk_data]    |     /root/nltk_data...\n",
            "[nltk_data]    |   Unzipping corpora/nonbreaking_prefixes.zip.\n",
            "[nltk_data]    | Downloading package nps_chat to /root/nltk_data...\n",
            "[nltk_data]    |   Unzipping corpora/nps_chat.zip.\n",
            "[nltk_data]    | Downloading package omw to /root/nltk_data...\n",
            "[nltk_data]    | Downloading package omw-1.4 to /root/nltk_data...\n",
            "[nltk_data]    | Downloading package opinion_lexicon to\n",
            "[nltk_data]    |     /root/nltk_data...\n",
            "[nltk_data]    |   Unzipping corpora/opinion_lexicon.zip.\n",
            "[nltk_data]    | Downloading package panlex_swadesh to\n",
            "[nltk_data]    |     /root/nltk_data...\n",
            "[nltk_data]    | Downloading package paradigms to /root/nltk_data...\n",
            "[nltk_data]    |   Unzipping corpora/paradigms.zip.\n",
            "[nltk_data]    | Downloading package pe08 to /root/nltk_data...\n",
            "[nltk_data]    |   Unzipping corpora/pe08.zip.\n",
            "[nltk_data]    | Downloading package perluniprops to\n",
            "[nltk_data]    |     /root/nltk_data...\n",
            "[nltk_data]    |   Unzipping misc/perluniprops.zip.\n",
            "[nltk_data]    | Downloading package pil to /root/nltk_data...\n",
            "[nltk_data]    |   Unzipping corpora/pil.zip.\n",
            "[nltk_data]    | Downloading package pl196x to /root/nltk_data...\n",
            "[nltk_data]    |   Unzipping corpora/pl196x.zip.\n",
            "[nltk_data]    | Downloading package porter_test to /root/nltk_data...\n",
            "[nltk_data]    |   Unzipping stemmers/porter_test.zip.\n",
            "[nltk_data]    | Downloading package ppattach to /root/nltk_data...\n",
            "[nltk_data]    |   Unzipping corpora/ppattach.zip.\n",
            "[nltk_data]    | Downloading package problem_reports to\n",
            "[nltk_data]    |     /root/nltk_data...\n",
            "[nltk_data]    |   Unzipping corpora/problem_reports.zip.\n",
            "[nltk_data]    | Downloading package product_reviews_1 to\n",
            "[nltk_data]    |     /root/nltk_data...\n",
            "[nltk_data]    |   Unzipping corpora/product_reviews_1.zip.\n",
            "[nltk_data]    | Downloading package product_reviews_2 to\n",
            "[nltk_data]    |     /root/nltk_data...\n",
            "[nltk_data]    |   Unzipping corpora/product_reviews_2.zip.\n",
            "[nltk_data]    | Downloading package propbank to /root/nltk_data...\n",
            "[nltk_data]    | Downloading package pros_cons to /root/nltk_data...\n",
            "[nltk_data]    |   Unzipping corpora/pros_cons.zip.\n",
            "[nltk_data]    | Downloading package ptb to /root/nltk_data...\n",
            "[nltk_data]    |   Unzipping corpora/ptb.zip.\n",
            "[nltk_data]    | Downloading package punkt to /root/nltk_data...\n",
            "[nltk_data]    |   Unzipping tokenizers/punkt.zip.\n",
            "[nltk_data]    | Downloading package qc to /root/nltk_data...\n",
            "[nltk_data]    |   Unzipping corpora/qc.zip.\n",
            "[nltk_data]    | Downloading package reuters to /root/nltk_data...\n",
            "[nltk_data]    | Downloading package rslp to /root/nltk_data...\n",
            "[nltk_data]    |   Unzipping stemmers/rslp.zip.\n",
            "[nltk_data]    | Downloading package rte to /root/nltk_data...\n",
            "[nltk_data]    |   Unzipping corpora/rte.zip.\n",
            "[nltk_data]    | Downloading package sample_grammars to\n",
            "[nltk_data]    |     /root/nltk_data...\n",
            "[nltk_data]    |   Unzipping grammars/sample_grammars.zip.\n",
            "[nltk_data]    | Downloading package semcor to /root/nltk_data...\n",
            "[nltk_data]    | Downloading package senseval to /root/nltk_data...\n",
            "[nltk_data]    |   Unzipping corpora/senseval.zip.\n",
            "[nltk_data]    | Downloading package sentence_polarity to\n",
            "[nltk_data]    |     /root/nltk_data...\n",
            "[nltk_data]    |   Unzipping corpora/sentence_polarity.zip.\n",
            "[nltk_data]    | Downloading package sentiwordnet to\n",
            "[nltk_data]    |     /root/nltk_data...\n",
            "[nltk_data]    |   Unzipping corpora/sentiwordnet.zip.\n",
            "[nltk_data]    | Downloading package shakespeare to /root/nltk_data...\n",
            "[nltk_data]    |   Unzipping corpora/shakespeare.zip.\n",
            "[nltk_data]    | Downloading package sinica_treebank to\n",
            "[nltk_data]    |     /root/nltk_data...\n",
            "[nltk_data]    |   Unzipping corpora/sinica_treebank.zip.\n",
            "[nltk_data]    | Downloading package smultron to /root/nltk_data...\n",
            "[nltk_data]    |   Unzipping corpora/smultron.zip.\n",
            "[nltk_data]    | Downloading package snowball_data to\n",
            "[nltk_data]    |     /root/nltk_data...\n",
            "[nltk_data]    | Downloading package spanish_grammars to\n",
            "[nltk_data]    |     /root/nltk_data...\n",
            "[nltk_data]    |   Unzipping grammars/spanish_grammars.zip.\n",
            "[nltk_data]    | Downloading package state_union to /root/nltk_data...\n",
            "[nltk_data]    |   Unzipping corpora/state_union.zip.\n",
            "[nltk_data]    | Downloading package stopwords to /root/nltk_data...\n",
            "[nltk_data]    |   Unzipping corpora/stopwords.zip.\n",
            "[nltk_data]    | Downloading package subjectivity to\n",
            "[nltk_data]    |     /root/nltk_data...\n",
            "[nltk_data]    |   Unzipping corpora/subjectivity.zip.\n",
            "[nltk_data]    | Downloading package swadesh to /root/nltk_data...\n",
            "[nltk_data]    |   Unzipping corpora/swadesh.zip.\n",
            "[nltk_data]    | Downloading package switchboard to /root/nltk_data...\n",
            "[nltk_data]    |   Unzipping corpora/switchboard.zip.\n",
            "[nltk_data]    | Downloading package tagsets to /root/nltk_data...\n",
            "[nltk_data]    |   Unzipping help/tagsets.zip.\n",
            "[nltk_data]    | Downloading package timit to /root/nltk_data...\n",
            "[nltk_data]    |   Unzipping corpora/timit.zip.\n",
            "[nltk_data]    | Downloading package toolbox to /root/nltk_data...\n",
            "[nltk_data]    |   Unzipping corpora/toolbox.zip.\n",
            "[nltk_data]    | Downloading package treebank to /root/nltk_data...\n",
            "[nltk_data]    |   Unzipping corpora/treebank.zip.\n",
            "[nltk_data]    | Downloading package twitter_samples to\n",
            "[nltk_data]    |     /root/nltk_data...\n",
            "[nltk_data]    |   Unzipping corpora/twitter_samples.zip.\n",
            "[nltk_data]    | Downloading package udhr to /root/nltk_data...\n",
            "[nltk_data]    |   Unzipping corpora/udhr.zip.\n",
            "[nltk_data]    | Downloading package udhr2 to /root/nltk_data...\n",
            "[nltk_data]    |   Unzipping corpora/udhr2.zip.\n",
            "[nltk_data]    | Downloading package unicode_samples to\n",
            "[nltk_data]    |     /root/nltk_data...\n",
            "[nltk_data]    |   Unzipping corpora/unicode_samples.zip.\n",
            "[nltk_data]    | Downloading package universal_tagset to\n",
            "[nltk_data]    |     /root/nltk_data...\n",
            "[nltk_data]    |   Unzipping taggers/universal_tagset.zip.\n",
            "[nltk_data]    | Downloading package universal_treebanks_v20 to\n",
            "[nltk_data]    |     /root/nltk_data...\n",
            "[nltk_data]    | Downloading package vader_lexicon to\n",
            "[nltk_data]    |     /root/nltk_data...\n",
            "[nltk_data]    | Downloading package verbnet to /root/nltk_data...\n",
            "[nltk_data]    |   Unzipping corpora/verbnet.zip.\n",
            "[nltk_data]    | Downloading package verbnet3 to /root/nltk_data...\n",
            "[nltk_data]    |   Unzipping corpora/verbnet3.zip.\n",
            "[nltk_data]    | Downloading package webtext to /root/nltk_data...\n",
            "[nltk_data]    |   Unzipping corpora/webtext.zip.\n",
            "[nltk_data]    | Downloading package wmt15_eval to /root/nltk_data...\n",
            "[nltk_data]    |   Unzipping models/wmt15_eval.zip.\n",
            "[nltk_data]    | Downloading package word2vec_sample to\n",
            "[nltk_data]    |     /root/nltk_data...\n",
            "[nltk_data]    |   Unzipping models/word2vec_sample.zip.\n",
            "[nltk_data]    | Downloading package wordnet to /root/nltk_data...\n",
            "[nltk_data]    | Downloading package wordnet2021 to /root/nltk_data...\n",
            "[nltk_data]    | Downloading package wordnet2022 to /root/nltk_data...\n",
            "[nltk_data]    |   Unzipping corpora/wordnet2022.zip.\n",
            "[nltk_data]    | Downloading package wordnet31 to /root/nltk_data...\n",
            "[nltk_data]    | Downloading package wordnet_ic to /root/nltk_data...\n",
            "[nltk_data]    |   Unzipping corpora/wordnet_ic.zip.\n",
            "[nltk_data]    | Downloading package words to /root/nltk_data...\n",
            "[nltk_data]    |   Unzipping corpora/words.zip.\n",
            "[nltk_data]    | Downloading package ycoe to /root/nltk_data...\n",
            "[nltk_data]    |   Unzipping corpora/ycoe.zip.\n",
            "[nltk_data]    | \n",
            "[nltk_data]  Done downloading collection all\n"
          ]
        },
        {
          "output_type": "execute_result",
          "data": {
            "text/plain": [
              "True"
            ]
          },
          "metadata": {},
          "execution_count": 4
        }
      ]
    },
    {
      "cell_type": "code",
      "source": [
        "t_text = \"To further elaborate on the geographical trends, North America has procured more than 50% of the global share in 2017 and has been leading the regional landscape of AI in the retail market.** The U.S. has a significant credit in the regional trends with over 65% of investments (including M&As, private equity, and venture capital) in artificial intelligence technology. Additionally, the region is a huge hub for startups in tandem with the presence of tech titans, such as Google, IBM, and Microsoft\""
      ],
      "metadata": {
        "id": "42a_K6G8HN1S"
      },
      "execution_count": 5,
      "outputs": []
    },
    {
      "cell_type": "code",
      "source": [
        "tb = TextBlob(t_text)"
      ],
      "metadata": {
        "id": "to3e-eqdHQyw"
      },
      "execution_count": 6,
      "outputs": []
    },
    {
      "cell_type": "code",
      "source": [
        "tb.words"
      ],
      "metadata": {
        "colab": {
          "base_uri": "https://localhost:8080/"
        },
        "id": "cX6AP7R1H5Oh",
        "outputId": "dff740d0-d79f-408e-adf2-bba3a5798339"
      },
      "execution_count": 7,
      "outputs": [
        {
          "output_type": "execute_result",
          "data": {
            "text/plain": [
              "WordList(['To', 'further', 'elaborate', 'on', 'the', 'geographical', 'trends', 'North', 'America', 'has', 'procured', 'more', 'than', '50', 'of', 'the', 'global', 'share', 'in', '2017', 'and', 'has', 'been', 'leading', 'the', 'regional', 'landscape', 'of', 'AI', 'in', 'the', 'retail', 'market', 'The', 'U.S', 'has', 'a', 'significant', 'credit', 'in', 'the', 'regional', 'trends', 'with', 'over', '65', 'of', 'investments', 'including', 'M', 'As', 'private', 'equity', 'and', 'venture', 'capital', 'in', 'artificial', 'intelligence', 'technology', 'Additionally', 'the', 'region', 'is', 'a', 'huge', 'hub', 'for', 'startups', 'in', 'tandem', 'with', 'the', 'presence', 'of', 'tech', 'titans', 'such', 'as', 'Google', 'IBM', 'and', 'Microsoft'])"
            ]
          },
          "metadata": {},
          "execution_count": 7
        }
      ]
    },
    {
      "cell_type": "code",
      "source": [
        "for val in tb.tags:\n",
        "  print(val)"
      ],
      "metadata": {
        "colab": {
          "base_uri": "https://localhost:8080/"
        },
        "id": "IO-eAQsvIJeJ",
        "outputId": "85f40fe7-108f-4250-ed6f-00371830f182"
      },
      "execution_count": 8,
      "outputs": [
        {
          "output_type": "stream",
          "name": "stdout",
          "text": [
            "('To', 'TO')\n",
            "('further', 'JJ')\n",
            "('elaborate', 'NN')\n",
            "('on', 'IN')\n",
            "('the', 'DT')\n",
            "('geographical', 'JJ')\n",
            "('trends', 'NNS')\n",
            "('North', 'NNP')\n",
            "('America', 'NNP')\n",
            "('has', 'VBZ')\n",
            "('procured', 'VBN')\n",
            "('more', 'JJR')\n",
            "('than', 'IN')\n",
            "('50', 'CD')\n",
            "('%', 'NN')\n",
            "('of', 'IN')\n",
            "('the', 'DT')\n",
            "('global', 'JJ')\n",
            "('share', 'NN')\n",
            "('in', 'IN')\n",
            "('2017', 'CD')\n",
            "('and', 'CC')\n",
            "('has', 'VBZ')\n",
            "('been', 'VBN')\n",
            "('leading', 'VBG')\n",
            "('the', 'DT')\n",
            "('regional', 'JJ')\n",
            "('landscape', 'NN')\n",
            "('of', 'IN')\n",
            "('AI', 'NNP')\n",
            "('in', 'IN')\n",
            "('the', 'DT')\n",
            "('retail', 'JJ')\n",
            "('market', 'NN')\n",
            "('*', 'NN')\n",
            "('*', 'VBD')\n",
            "('The', 'DT')\n",
            "('U.S.', 'NNP')\n",
            "('has', 'VBZ')\n",
            "('a', 'DT')\n",
            "('significant', 'JJ')\n",
            "('credit', 'NN')\n",
            "('in', 'IN')\n",
            "('the', 'DT')\n",
            "('regional', 'JJ')\n",
            "('trends', 'NNS')\n",
            "('with', 'IN')\n",
            "('over', 'IN')\n",
            "('65', 'CD')\n",
            "('%', 'NN')\n",
            "('of', 'IN')\n",
            "('investments', 'NNS')\n",
            "('including', 'VBG')\n",
            "('M', 'NNP')\n",
            "('&', 'CC')\n",
            "('As', 'NNP')\n",
            "('private', 'JJ')\n",
            "('equity', 'NN')\n",
            "('and', 'CC')\n",
            "('venture', 'NN')\n",
            "('capital', 'NN')\n",
            "('in', 'IN')\n",
            "('artificial', 'JJ')\n",
            "('intelligence', 'NN')\n",
            "('technology', 'NN')\n",
            "('Additionally', 'RB')\n",
            "('the', 'DT')\n",
            "('region', 'NN')\n",
            "('is', 'VBZ')\n",
            "('a', 'DT')\n",
            "('huge', 'JJ')\n",
            "('hub', 'NN')\n",
            "('for', 'IN')\n",
            "('startups', 'NNS')\n",
            "('in', 'IN')\n",
            "('tandem', 'NN')\n",
            "('with', 'IN')\n",
            "('the', 'DT')\n",
            "('presence', 'NN')\n",
            "('of', 'IN')\n",
            "('tech', 'NN')\n",
            "('titans', 'NNS')\n",
            "('such', 'JJ')\n",
            "('as', 'IN')\n",
            "('Google', 'NNP')\n",
            "('IBM', 'NNP')\n",
            "('and', 'CC')\n",
            "('Microsoft', 'NNP')\n"
          ]
        }
      ]
    },
    {
      "cell_type": "code",
      "source": [
        "tb.ngrams(5)"
      ],
      "metadata": {
        "colab": {
          "base_uri": "https://localhost:8080/"
        },
        "id": "Yn4oaIu2KpHg",
        "outputId": "8fbe6ae6-5823-455b-bf8a-7bdf926adaeb"
      },
      "execution_count": 13,
      "outputs": [
        {
          "output_type": "execute_result",
          "data": {
            "text/plain": [
              "[WordList(['To', 'further', 'elaborate', 'on', 'the']),\n",
              " WordList(['further', 'elaborate', 'on', 'the', 'geographical']),\n",
              " WordList(['elaborate', 'on', 'the', 'geographical', 'trends']),\n",
              " WordList(['on', 'the', 'geographical', 'trends', 'North']),\n",
              " WordList(['the', 'geographical', 'trends', 'North', 'America']),\n",
              " WordList(['geographical', 'trends', 'North', 'America', 'has']),\n",
              " WordList(['trends', 'North', 'America', 'has', 'procured']),\n",
              " WordList(['North', 'America', 'has', 'procured', 'more']),\n",
              " WordList(['America', 'has', 'procured', 'more', 'than']),\n",
              " WordList(['has', 'procured', 'more', 'than', '50']),\n",
              " WordList(['procured', 'more', 'than', '50', 'of']),\n",
              " WordList(['more', 'than', '50', 'of', 'the']),\n",
              " WordList(['than', '50', 'of', 'the', 'global']),\n",
              " WordList(['50', 'of', 'the', 'global', 'share']),\n",
              " WordList(['of', 'the', 'global', 'share', 'in']),\n",
              " WordList(['the', 'global', 'share', 'in', '2017']),\n",
              " WordList(['global', 'share', 'in', '2017', 'and']),\n",
              " WordList(['share', 'in', '2017', 'and', 'has']),\n",
              " WordList(['in', '2017', 'and', 'has', 'been']),\n",
              " WordList(['2017', 'and', 'has', 'been', 'leading']),\n",
              " WordList(['and', 'has', 'been', 'leading', 'the']),\n",
              " WordList(['has', 'been', 'leading', 'the', 'regional']),\n",
              " WordList(['been', 'leading', 'the', 'regional', 'landscape']),\n",
              " WordList(['leading', 'the', 'regional', 'landscape', 'of']),\n",
              " WordList(['the', 'regional', 'landscape', 'of', 'AI']),\n",
              " WordList(['regional', 'landscape', 'of', 'AI', 'in']),\n",
              " WordList(['landscape', 'of', 'AI', 'in', 'the']),\n",
              " WordList(['of', 'AI', 'in', 'the', 'retail']),\n",
              " WordList(['AI', 'in', 'the', 'retail', 'market']),\n",
              " WordList(['in', 'the', 'retail', 'market', 'The']),\n",
              " WordList(['the', 'retail', 'market', 'The', 'U.S']),\n",
              " WordList(['retail', 'market', 'The', 'U.S', 'has']),\n",
              " WordList(['market', 'The', 'U.S', 'has', 'a']),\n",
              " WordList(['The', 'U.S', 'has', 'a', 'significant']),\n",
              " WordList(['U.S', 'has', 'a', 'significant', 'credit']),\n",
              " WordList(['has', 'a', 'significant', 'credit', 'in']),\n",
              " WordList(['a', 'significant', 'credit', 'in', 'the']),\n",
              " WordList(['significant', 'credit', 'in', 'the', 'regional']),\n",
              " WordList(['credit', 'in', 'the', 'regional', 'trends']),\n",
              " WordList(['in', 'the', 'regional', 'trends', 'with']),\n",
              " WordList(['the', 'regional', 'trends', 'with', 'over']),\n",
              " WordList(['regional', 'trends', 'with', 'over', '65']),\n",
              " WordList(['trends', 'with', 'over', '65', 'of']),\n",
              " WordList(['with', 'over', '65', 'of', 'investments']),\n",
              " WordList(['over', '65', 'of', 'investments', 'including']),\n",
              " WordList(['65', 'of', 'investments', 'including', 'M']),\n",
              " WordList(['of', 'investments', 'including', 'M', 'As']),\n",
              " WordList(['investments', 'including', 'M', 'As', 'private']),\n",
              " WordList(['including', 'M', 'As', 'private', 'equity']),\n",
              " WordList(['M', 'As', 'private', 'equity', 'and']),\n",
              " WordList(['As', 'private', 'equity', 'and', 'venture']),\n",
              " WordList(['private', 'equity', 'and', 'venture', 'capital']),\n",
              " WordList(['equity', 'and', 'venture', 'capital', 'in']),\n",
              " WordList(['and', 'venture', 'capital', 'in', 'artificial']),\n",
              " WordList(['venture', 'capital', 'in', 'artificial', 'intelligence']),\n",
              " WordList(['capital', 'in', 'artificial', 'intelligence', 'technology']),\n",
              " WordList(['in', 'artificial', 'intelligence', 'technology', 'Additionally']),\n",
              " WordList(['artificial', 'intelligence', 'technology', 'Additionally', 'the']),\n",
              " WordList(['intelligence', 'technology', 'Additionally', 'the', 'region']),\n",
              " WordList(['technology', 'Additionally', 'the', 'region', 'is']),\n",
              " WordList(['Additionally', 'the', 'region', 'is', 'a']),\n",
              " WordList(['the', 'region', 'is', 'a', 'huge']),\n",
              " WordList(['region', 'is', 'a', 'huge', 'hub']),\n",
              " WordList(['is', 'a', 'huge', 'hub', 'for']),\n",
              " WordList(['a', 'huge', 'hub', 'for', 'startups']),\n",
              " WordList(['huge', 'hub', 'for', 'startups', 'in']),\n",
              " WordList(['hub', 'for', 'startups', 'in', 'tandem']),\n",
              " WordList(['for', 'startups', 'in', 'tandem', 'with']),\n",
              " WordList(['startups', 'in', 'tandem', 'with', 'the']),\n",
              " WordList(['in', 'tandem', 'with', 'the', 'presence']),\n",
              " WordList(['tandem', 'with', 'the', 'presence', 'of']),\n",
              " WordList(['with', 'the', 'presence', 'of', 'tech']),\n",
              " WordList(['the', 'presence', 'of', 'tech', 'titans']),\n",
              " WordList(['presence', 'of', 'tech', 'titans', 'such']),\n",
              " WordList(['of', 'tech', 'titans', 'such', 'as']),\n",
              " WordList(['tech', 'titans', 'such', 'as', 'Google']),\n",
              " WordList(['titans', 'such', 'as', 'Google', 'IBM']),\n",
              " WordList(['such', 'as', 'Google', 'IBM', 'and']),\n",
              " WordList(['as', 'Google', 'IBM', 'and', 'Microsoft'])]"
            ]
          },
          "metadata": {},
          "execution_count": 13
        }
      ]
    },
    {
      "cell_type": "code",
      "source": [
        "# Getting the noun phrases from the sentence\n",
        "tb.noun_phrases"
      ],
      "metadata": {
        "colab": {
          "base_uri": "https://localhost:8080/"
        },
        "id": "HvMWU4D5In4Z",
        "outputId": "3e26a6fe-7483-4934-ef32-704a21348dfb"
      },
      "execution_count": 10,
      "outputs": [
        {
          "output_type": "execute_result",
          "data": {
            "text/plain": [
              "WordList(['geographical trends', 'america', 'global share', 'regional landscape', 'ai', 'retail market', '* *', 'u.s.', 'significant credit', 'regional trends', 'private equity', 'venture capital', 'artificial intelligence technology', 'additionally', 'huge hub', 'tech titans', 'google', 'ibm', 'microsoft'])"
            ]
          },
          "metadata": {},
          "execution_count": 10
        }
      ]
    },
    {
      "cell_type": "code",
      "source": [
        "## sentiment of the sentence\n",
        "TextBlob(\"This is amazing product. Happy to buy stuffs\").sentiment"
      ],
      "metadata": {
        "colab": {
          "base_uri": "https://localhost:8080/"
        },
        "id": "i4ZBOwtaIsx5",
        "outputId": "fb552bc6-3f44-49fa-ba02-23bf4080a195"
      },
      "execution_count": 11,
      "outputs": [
        {
          "output_type": "execute_result",
          "data": {
            "text/plain": [
              "Sentiment(polarity=0.7000000000000001, subjectivity=0.95)"
            ]
          },
          "metadata": {},
          "execution_count": 11
        }
      ]
    },
    {
      "cell_type": "code",
      "source": [
        "## Correction of the sentence\n",
        "\n",
        "TextBlob(\" i met my daar old friend\").correct()"
      ],
      "metadata": {
        "colab": {
          "base_uri": "https://localhost:8080/"
        },
        "id": "xIuK12F7JIij",
        "outputId": "d08e5b83-d5be-4d58-a7c4-6e45495d9151"
      },
      "execution_count": 12,
      "outputs": [
        {
          "output_type": "execute_result",
          "data": {
            "text/plain": [
              "TextBlob(\" i met my dear old friend\")"
            ]
          },
          "metadata": {},
          "execution_count": 12
        }
      ]
    },
    {
      "cell_type": "code",
      "source": [],
      "metadata": {
        "id": "HqGjqg3EKh8C"
      },
      "execution_count": null,
      "outputs": []
    }
  ]
}